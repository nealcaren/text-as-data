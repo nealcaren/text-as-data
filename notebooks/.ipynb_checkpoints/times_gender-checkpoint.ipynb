{
 "metadata": {
  "name": ""
 },
 "nbformat": 3,
 "nbformat_minor": 0,
 "worksheets": [
  {
   "cells": [
    {
     "cell_type": "markdown",
     "metadata": {},
     "source": [
      "Using Python to see how the *Times* writes about men and women\n",
      "----------\n",
      "Neal Caren - University of North Carolina, Chapel Hill\n",
      "[mail](mailto:neal.caren@unc.edu)\n",
      "[web](http://nealcaren.web.unc.edu)\n",
      "[twitter](http://twitter.com/HaphazardSoc)\n",
      "[scholar](http://scholar.google.com/citations?user=cy0u16kAAAAJ&hl=en)\n",
      "\n",
      "Do men and women come up in different contexts in the newspaper? One quick way to answer that \n",
      "question\n",
      "is to compare the words in sentences that discuss women with the words in sentences that\n",
      "discuss men. Here's an example of how to do this sort of analysis using Python. \n",
      "\n",
      "The data comes from last week's (February 27, 2013-March 6, 2013) *New York Times*. I downloaded\n",
      "all the articles available through LexisNexis excluding only the corrections and paid\n",
      "obituaries. This totals 1,379 articles, or about 200 per day. Using a modified version of an old Python \n",
      "[script](http://nealcaren.web.unc.edu/cleaning-up-lexisnexis-files/), I removed all the\n",
      "metadata. put the text\n",
      "of each article in its own file, and placed all of the text files in a folder called `articles`. \n",
      "It is not the most efficient way to go about it, but sometimes the text data comes that way\n",
      "so I thought I would be useful to set it up that way for didactic purposes. "
     ]
    },
    {
     "cell_type": "markdown",
     "metadata": {},
     "source": [
      "We begin by loading a few modules. \n",
      "The only modules that you might need to install is [`nltk`](http://nltk.org),\n",
      "which is a powerful suite for text processing and analysis. \n",
      "For this analysis, I'm only using the `NLTK` function that splits text into sentences.\n",
      "`glob` is a useful module for \n",
      "retrieving the contents of a directory, and `string.punctuation` is just a string with all the \n",
      "ASCII punctuation marks, that is `!\"#$%&'()*+,-/:;<=>?@[\\]^_`{|}~. "
     ]
    },
    {
     "cell_type": "code",
     "collapsed": true,
     "input": [
      "from __future__ import division\n",
      "\n",
      "import glob\n",
      "import nltk\n",
      "from string import punctuation\n",
      "\n",
      "tokenizer = nltk.data.load('tokenizers/punkt/english.pickle')"
     ],
     "language": "python",
     "metadata": {},
     "outputs": [],
     "prompt_number": 35
    },
    {
     "cell_type": "markdown",
     "metadata": {},
     "source": [
      "The heart of the analysis will be figuring out whether a sentence is talking about\n",
      "a man, woman, both or neither. As a first pass, I'm going to assume that the sentence\n",
      "is  talking about man if it uses\n",
      "words like, \"he\", \"dad\" or \"Mr.\", and is probably talking about a woman if it uses\n",
      "words like, \"she\", \"mother\", or \"Ms.\". It isn't perfect, but depending on the text, it can be quite useful.\n",
      "Rather than start from scratch, I build off of  [Danielle Sucher](http://twitter.com/DanielleSucher)'s list from her \n",
      "[Jailbreak the Patriarchy](https://github.com/DanielleSucher/Jailbreak-the-Patriarchy)\n",
      "browser plugin."
     ]
    },
    {
     "cell_type": "code",
     "collapsed": true,
     "input": [
      "#Two lists  of words that are used when a man or woman is present, based on Danielle Sucher's https://github.com/DanielleSucher/Jailbreak-the-Patriarchy\n",
      "male_words=set(['guy','spokesman','chairman',\"men's\",'men','him',\"he's\",'his','boy','boyfriend','boyfriends','boys','brother','brothers','dad','dads','dude','father','fathers','fiance','gentleman','gentlemen','god','grandfather','grandpa','grandson','groom','he','himself','husband','husbands','king','male','man','mr','nephew','nephews','priest','prince','son','sons','uncle','uncles','waiter','widower','widowers'])\n",
      "female_words=set(['heroine','spokeswoman','chairwoman',\"women's\",'actress','women',\"she's\",'her','aunt','aunts','bride','daughter','daughters','female','fiancee','girl','girlfriend','girlfriends','girls','goddess','granddaughter','grandma','grandmother','herself','ladies','lady','lady','mom','moms','mother','mothers','mrs','ms','niece','nieces','priestess','princess','queens','she','sister','sisters','waitress','widow','widows','wife','wives','woman'])"
     ],
     "language": "python",
     "metadata": {},
     "outputs": [],
     "prompt_number": 36
    },
    {
     "cell_type": "markdown",
     "metadata": {},
     "source": [
      "I'm storing them as sets rather than lists because later on I want to look at whether or not words in\n",
      "a sentence overlap with these words, and Python will return the intersection of sets, but not lists.\n",
      "\n",
      "The function below \n",
      "takes a work list and returns the gender of the person\n",
      "being talked about, if any, based on the number of words a sentence has in common\n",
      "with either the male or female word lists."
     ]
    },
    {
     "cell_type": "code",
     "collapsed": true,
     "input": [
      "def gender_the_sentence(sentence_words):\n",
      "    mw_length=len(male_words.intersection(sentence_words))\n",
      "    fw_length=len(female_words.intersection(sentence_words))\n",
      "\n",
      "    if mw_length>0 and fw_length==0:\n",
      "        gender='male'\n",
      "    elif mw_length==0 and fw_length>0: \n",
      "        gender='female'\n",
      "    elif mw_length>0 and fw_length>0: \n",
      "        gender='both'\n",
      "    else:\n",
      "        gender='none'\n",
      "    return gender"
     ],
     "language": "python",
     "metadata": {},
     "outputs": [],
     "prompt_number": 37
    },
    {
     "cell_type": "markdown",
     "metadata": {},
     "source": [
      "I don't really care about proper nouns, especially people's names (e.g. it is boring that 'Boehner' is always male), so I need a way to identify them. To do that, \n",
      "I'm going to count how many times a word's first letter is capitalized and how many times\n",
      "it isn't. With a large enough text and if you ignore the first words of sentences, this is \n",
      "pretty robust way to identify proper nouns."
     ]
    },
    {
     "cell_type": "code",
     "collapsed": true,
     "input": [
      "def is_it_proper(word):\n",
      "        if word[0]==word[0].upper():\n",
      "            case='upper'\n",
      "        else:\n",
      "            case='lower'\n",
      "        \n",
      "        word_lower=word.lower()\n",
      "        try:\n",
      "            proper_nouns[word_lower][case] = proper_nouns[word_lower].get(case,0)+1\n",
      "        except Exception,e:\n",
      "            #This is triggered when the word hasn't been seen yet\n",
      "            proper_nouns[word_lower]= {case:1}"
     ],
     "language": "python",
     "metadata": {},
     "outputs": [],
     "prompt_number": 38
    },
    {
     "cell_type": "markdown",
     "metadata": {},
     "source": [
      "Note that here I'm using `.get()` to retrieve the values stored the proper noun dictionary.\n",
      "This is one way to avoid error messages when the key isn't in the dictionary. Here, `proper_nouns[word_lower].get(case,0)`\n",
      " returns the value of `word_lower` if that combination of word and capitalization has been seen before and \n",
      "0 if has not. The `except` is only triggered when the word hasn't been seen yet.\n",
      "\n",
      "I'm going to keep track of each the words in each sentence with a couple of counters. This\n",
      "function \n",
      "doesn't return anything but it does increment the `word_freq`, `word_counter`, \n",
      "and `sentence_counter` dictionaries."
     ]
    },
    {
     "cell_type": "code",
     "collapsed": true,
     "input": [
      "def increment_gender(sentence_words,gender):\n",
      "    sentence_counter[gender]+=1\n",
      "    word_counter[gender]+=len(sentence_words)\n",
      "    for word in sentence_words:\n",
      "        word_freq[gender][word]=word_freq[gender].get(word,0)+1"
     ],
     "language": "python",
     "metadata": {},
     "outputs": [],
     "prompt_number": 39
    },
    {
     "cell_type": "markdown",
     "metadata": {},
     "source": [
      "And so we begin. I set up the counters to store the various quantities of interest. These \n",
      "are the ones that modified in the `increment_gender` function. Some\n",
      "of the values probably don't need to be entered now, particularly  for the word and sentence\n",
      "counters, but starting with zeroes helps remind me what they are for. "
     ]
    },
    {
     "cell_type": "code",
     "collapsed": true,
     "input": [
      "sexes=['male','female','none','both']\n",
      "sentence_counter={sex:0 for sex in sexes}\n",
      "word_counter={sex:0 for sex in sexes}\n",
      "word_freq={sex:{} for sex in sexes}\n",
      "proper_nouns={}"
     ],
     "language": "python",
     "metadata": {},
     "outputs": [],
     "prompt_number": 40
    },
    {
     "cell_type": "markdown",
     "metadata": {},
     "source": [
      "I've stored all the files at text files in a directory called articles and I wanted to grab all their names."
     ]
    },
    {
     "cell_type": "code",
     "collapsed": true,
     "input": [
      "file_list=glob.glob('articles/*.txt')"
     ],
     "language": "python",
     "metadata": {},
     "outputs": [],
     "prompt_number": 41
    },
    {
     "cell_type": "markdown",
     "metadata": {},
     "source": [
      "The basic idea is to read each file, split it into sentences, and then process each sentence.\n",
      "The processing begins by splitting the sentence into words and removing punctuation. Then for each word\n",
      "that doesn't begin the sentence, I figure out if it is capitalized or not as part of the \n",
      "hunt for proper nouns. Then, I estimate whether the sentence is likely talking about a man or a woman,\n",
      "based on the occurrences of the various gender lists. Finally, I add word that is used to the \n",
      "appropriate gender word frequencies counter. So the sentence, \"She is lovely.\" would add 'she','is', and 'lovely'\n",
      "to our count of words used when talking about a female. It would also increment the lower case counters for\n",
      "'is' and 'lovely'."
     ]
    },
    {
     "cell_type": "code",
     "collapsed": true,
     "input": [
      "\n",
      "for file_name in file_list:\n",
      "    #Open the file\n",
      "    text=open(file_name,'rb').read()\n",
      "    \n",
      "    #Split into sentences\n",
      "    sentences=tokenizer.tokenize(text)\n",
      "    \n",
      "    for sentence in sentences:\n",
      "        #word tokenize and strip punctuation\n",
      "            sentence_words=sentence.split()\n",
      "            sentence_words=[w.strip(punctuation) for w in sentence_words \n",
      "                            if len(w.strip(punctuation))>0]\n",
      "            \n",
      "            #figure out how often each word is capitalized\n",
      "            [is_it_proper(word) for word in sentence_words[1:]]\n",
      "\n",
      "            #lower case it\n",
      "            sentence_words=set([w.lower() for w in sentence_words])\n",
      "            \n",
      "            #Figure out if there are gendered words in the sentence by computing the length of the intersection of the sets\n",
      "            gender=gender_the_sentence(sentence_words)\n",
      "\n",
      "            #Increment some counters\n",
      "            increment_gender(sentence_words,gender)"
     ],
     "language": "python",
     "metadata": {},
     "outputs": [],
     "prompt_number": 42
    },
    {
     "cell_type": "markdown",
     "metadata": {},
     "source": [
      "After all the articles are parsed, it is time to start analyzing the word frequencies.\n",
      "\n",
      "First, I create a set consisting of all words which were capitalized more often than not."
     ]
    },
    {
     "cell_type": "code",
     "collapsed": true,
     "input": [
      "proper_nouns=set([word for word in proper_nouns if  \n",
      "                  proper_nouns[word].get('upper',0) / \n",
      "                  (proper_nouns[word].get('upper',0) + \n",
      "                   proper_nouns[word].get('lower',0))>.50])"
     ],
     "language": "python",
     "metadata": {},
     "outputs": [],
     "prompt_number": 43
    },
    {
     "cell_type": "markdown",
     "metadata": {},
     "source": [
      "I don't really care about rare words, so I select the top 1,000 words, \n",
      "based on frequencies, from both the male and female word dictionaries. From that list, \n",
      "I subtract the words used to identify the sentence as either male or female along with the proper nouns."
     ]
    },
    {
     "cell_type": "code",
     "collapsed": true,
     "input": [
      "common_words=set([w for w in sorted (word_freq['female'],\n",
      "                                     key=word_freq['female'].get,reverse=True)[:1000]]+[w for w in sorted (word_freq['male'],key=word_freq['male'].get,reverse=True)[:1000]])\n",
      "\n",
      "common_words=list(common_words-male_words-female_words-proper_nouns)"
     ],
     "language": "python",
     "metadata": {},
     "outputs": [],
     "prompt_number": 44
    },
    {
     "cell_type": "markdown",
     "metadata": {},
     "source": [
      "I compute how likely the word appears in a male subject sentence versus a \n",
      "female subject sentence. (My first instinct was to create ratios, but they are undefined when\n",
      "a word is not used to talk about the sex used in the denominator.) I also need to control for the fact\n",
      "that there is likely an imbalance in how many words are written about men and women. If 'hair' is \n",
      "mentioned in 10 male-subjected sentences and 10 female-subject sentences, that could be taken as a\n",
      "sign of parity, but not if there a total of 20 female-subject (50%) sentences and 100 male-subject\n",
      "sentences (10%). I'll score 'hair' as a 16.6% male, which is (10%)/(50%+10%). Later on, if we want,\n",
      "we can recover the ratios by computing `(100-16.6)/16.6`, which is 5x, the same as `50%/10%`."
     ]
    },
    {
     "cell_type": "code",
     "collapsed": true,
     "input": [
      "male_percent={word:(word_freq['male'].get(word,0) / word_counter['male']) \n",
      "              / (word_freq['female'].get(word,0) / word_counter['female']+word_freq['male'].get(word,0)/word_counter['male']) for word in common_words}"
     ],
     "language": "python",
     "metadata": {},
     "outputs": [],
     "prompt_number": 45
    },
    {
     "cell_type": "markdown",
     "metadata": {},
     "source": [
      "We can print out some basic statistics based on our counters about overall rates of coverage."
     ]
    },
    {
     "cell_type": "code",
     "collapsed": false,
     "input": [
      "print '%.1f%% gendered' % (100*(sentence_counter['male']+sentence_counter['female'])/\n",
      "                           (sentence_counter['male']+sentence_counter['female']+sentence_counter['both']+sentence_counter['none']))\n",
      "print '%s sentences about men.' % sentence_counter['male']\n",
      "print '%s sentences about women.' % sentence_counter['female']\n",
      "print '%.1f sentences about men for each sentence about women.' % (sentence_counter['male']/sentence_counter['female'])"
     ],
     "language": "python",
     "metadata": {},
     "outputs": [
      {
       "output_type": "stream",
       "stream": "stdout",
       "text": [
        "25.9% gendered\n",
        "19681 sentences about men.\n",
        "6242 sentences about women.\n",
        "3.2 sentences about men for each sentence about women."
       ]
      }
     ],
     "prompt_number": 46
    },
    {
     "cell_type": "markdown",
     "metadata": {},
     "source": [
      "Finally, I print out the words that are disproporately found in the male and female subject\n",
      "sentences. For the 50 distincitve female and male words, I print the ratio of gendered %s \n",
      "along with the\n",
      "count of the number of male-subject and female-subject sentences that had the word. This script isn't \n",
      "particularly pretty, but it gets the job done."
     ]
    },
    {
     "cell_type": "code",
     "collapsed": false,
     "input": [
      "header ='Ratio\\tMale\\tFemale\\tWord'\n",
      "print 'Male words'\n",
      "print header\n",
      "for word in sorted (male_percent,key=male_percent.get,reverse=True)[:50]:\n",
      "    try:\n",
      "        ratio=male_percent[word]/(1-male_percent[word])\n",
      "    except:\n",
      "        ratio=100\n",
      "    print '%.1f\\t%02d\\t%02d\\t%s' % (ratio,word_freq['male'].get(word,0),word_freq['female'].get(word,0),word)\n",
      "\n",
      "print '\\n'*2\n",
      "print 'Female words'\n",
      "print header\n",
      "for word in sorted (male_percent,key=male_percent.get,reverse=False)[:50]:\n",
      "    try:\n",
      "        ratio=(1-male_percent[word])/male_percent[word]\n",
      "    except:\n",
      "        ratio=100\n",
      "    print '%.1f\\t%01d\\t%01d\\t%s' % (ratio,word_freq['male'].get(word,0),word_freq['female'].get(word,0),word)"
     ],
     "language": "python",
     "metadata": {},
     "outputs": [
      {
       "output_type": "stream",
       "stream": "stdout",
       "text": [
        "Male words\n",
        "Ratio\tMale\tFemale\tWord\n",
        "11.2\t72\t02\tprime\n",
        "10.8\t70\t02\tbaseball\n",
        "9.5\t92\t03\tofficial\n",
        "9.5\t61\t02\tcapital\n",
        "9.5\t61\t02\tgovernor\n",
        "5.8\t75\t04\tfans\n",
        "5.3\t120\t07\tminister\n",
        "5.3\t51\t03\tsequester\n",
        "5.2\t118\t07\tleague\n",
        "4.5\t58\t04\tfailed\n",
        "4.4\t57\t04\tcardinals\n",
        "4.2\t54\t04\tfinance\n",
        "4.0\t78\t06\treporters\n",
        "3.9\t50\t04\twinning\n",
        "3.8\t73\t06\tfinally\n",
        "3.6\t116\t10\tplayers\n",
        "3.5\t56\t05\tacknowledged\n",
        "3.5\t67\t06\taddress\n",
        "3.4\t66\t06\tattack\n",
        "3.3\t108\t10\topposition\n",
        "3.3\t54\t05\trest\n",
        "3.3\t53\t05\tcamp\n",
        "3.2\t52\t05\tcosts\n",
        "3.1\t91\t09\tgoal\n",
        "3.1\t50\t05\tcrowd\n",
        "3.0\t118\t12\tbank\n",
        "2.9\t57\t06\treferring\n",
        "2.9\t66\t07\tsports\n",
        "2.9\t56\t06\tsurgery\n",
        "2.9\t56\t06\tmissed\n",
        "2.8\t55\t06\tpressure\n",
        "2.8\t64\t07\tteammates\n",
        "2.8\t91\t10\teconomy\n",
        "2.8\t54\t06\trelease\n",
        "2.7\t123\t14\tpope\n",
        "2.7\t130\t15\tmeeting\n",
        "2.6\t84\t10\tvictory\n",
        "2.6\t58\t07\tveteran\n",
        "2.5\t226\t28\tpolitical\n",
        "2.5\t104\t13\tspending\n",
        "2.5\t64\t08\teffect\n",
        "2.5\t56\t07\tspend\n",
        "2.5\t72\t09\tcontinue\n",
        "2.5\t95\t12\tforeign\n",
        "2.4\t71\t09\tinjury\n",
        "2.4\t94\t12\telection\n",
        "2.4\t78\t10\trunning\n",
        "2.4\t116\t15\tmanager\n",
        "2.4\t54\t07\telected\n",
        "2.4\t99\t13\ttax\n",
        "\n",
        "\n",
        "\n",
        "Female words\n",
        "Ratio\tMale\tFemale\tWord\n",
        "100.0\t0\t29\tpregnant\n",
        "100.0\t0\t17\thusband's\n",
        "51.6\t1\t16\tsuffrage\n",
        "40.3\t2\t25\tbreast\n",
        "12.9\t4\t16\tgender\n",
        "11.8\t6\t22\tpregnancy\n",
        "6.8\t10\t21\tdresses\n",
        "5.7\t13\t23\tbirth\n",
        "5.5\t13\t22\tmemoir\n",
        "4.8\t25\t37\tbaby\n",
        "4.7\t17\t25\tdisease\n",
        "4.6\t14\t20\tinterviewed\n",
        "4.6\t12\t17\tabortion\n",
        "4.6\t24\t34\tdress\n",
        "4.5\t23\t32\tmarried\n",
        "4.3\t12\t16\tactivist\n",
        "4.3\t25\t33\tauthor\n",
        "4.1\t14\t18\tdrama\n",
        "3.9\t30\t36\thair\n",
        "3.8\t18\t21\trape\n",
        "3.6\t24\t27\tdog\n",
        "3.6\t19\t21\tnovel\n",
        "3.5\t99\t108\tchildren\n",
        "3.4\t16\t17\tstatue\n",
        "3.4\t17\t18\tvictim\n",
        "3.4\t51\t53\tcancer\n",
        "3.3\t41\t42\tviolence\n",
        "3.2\t32\t32\tyounger\n",
        "3.2\t20\t20\tfestival\n",
        "3.1\t34\t33\tstudy\n",
        "3.1\t30\t29\tteacher\n",
        "3.1\t27\t26\tsex\n",
        "3.1\t43\t41\tfashion\n",
        "3.1\t20\t19\topera\n",
        "3.0\t18\t17\tsinging\n",
        "3.0\t62\t57\tchild\n",
        "2.8\t23\t20\twear\n",
        "2.8\t30\t26\tnative\n",
        "2.6\t34\t27\tdance\n",
        "2.6\t29\t23\tgraduated\n",
        "2.5\t33\t26\twriter\n",
        "2.5\t23\t18\tfavor\n",
        "2.5\t41\t32\teyes\n",
        "2.5\t22\t17\tbecomes\n",
        "2.5\t47\t36\tkids\n",
        "2.5\t21\t16\teat\n",
        "2.4\t29\t22\tdomestic\n",
        "2.4\t29\t22\ttraditional\n",
        "2.4\t77\t58\tparents\n",
        "2.4\t32\t24\tdrug"
       ]
      }
     ],
     "prompt_number": 47
    },
    {
     "cell_type": "markdown",
     "metadata": {},
     "source": [
      "My quick interepretation: If your knowledge of men's and women's roles in society came just from\n",
      "reading last week's *New York Times*, you would think that men play sports and run the government. Women do\n",
      "feminine and domestic things. To be honest, I was a little shocked at how stereotypical\n",
      "the words used in the women subject sentences were. \n",
      "\n",
      "Now this is only data from one week, and certainly some of the findings\n",
      "are driven by that. Coverage of suffrage, for example, was presumably driven by the\n",
      "100th anniversary of the \n",
      "[Woman Suffrage Procession](http://en.wikipedia.org/wiki/Woman_Suffrage_Parade_of_1913). Similarly,\n",
      "the male list is also tied to recent news events, as one one would expect from data from a newspaper. \n",
      "These lists also just reported the extreme words, many of which were only used in a handful of articles. A \n",
      "more rigorous analysis would probably look at the complete distribution of words.\n",
      "\n",
      "I should also add that after I ran this analysis for the first time, I noticed a \n",
      "few words, like 'spokesman' and 'actress' that should have been included on the original lists. \n",
      "\n",
      "If you wanted to output the full table, you could easily write it to a tab delimited file."
     ]
    },
    {
     "cell_type": "code",
     "collapsed": true,
     "input": [
      "outfile_name='gender.tsv'\n",
      "tsv_outfile=open(outfile_name,'wb')\n",
      "header='percent_male\\tmale_count\\tfemalecount\\tword\\n'\n",
      "tsv_outfile.write(header)\n",
      "for word in common_words:\n",
      "    row = '%.2f\\t%01d\\t%01d\\t%s\\n' % (100*male_percent[word],word_freq['male'].get(word,0),word_freq['female'].get(word,0),word)\n",
      "    tsv_outfile.write(row)\n",
      "tsv_outfile.close()"
     ],
     "language": "python",
     "metadata": {},
     "outputs": [],
     "prompt_number": 48
    },
    {
     "cell_type": "markdown",
     "metadata": {},
     "source": [
      "As an addendum, we can look at the most popular words. In this case, \n",
      "we will look at the 100 most frequently used words, and then compare what proportion of male subject sentences had those words and what proportion of female subject sentences had those words."
     ]
    },
    {
     "cell_type": "code",
     "collapsed": false,
     "input": [
      "all_words=[w for w in word_freq['none']]+[w for w in word_freq['both']]+[w for w in word_freq['male']]+[w for w in word_freq['female']]\n",
      "all_words={w:(word_freq['male'].get(w,0)+word_freq['female'].get(w,0)+word_freq['both'].get(w,0)+word_freq['none'].get(w,0)) for w in set(all_words)}\n",
      "\n",
      "print 'word\\tMale\\tFemale'\n",
      "for word in sorted (all_words,key=all_words.get,reverse=True)[:100]:\n",
      "    print '%s\\t%.1f%%\\t%.1f%%' % (word,100*word_freq['male'].get(word,0)/sentence_counter['male'],100*word_freq['female'].get(word,0)/sentence_counter['female'])"
     ],
     "language": "python",
     "metadata": {},
     "outputs": [
      {
       "output_type": "stream",
       "stream": "stdout",
       "text": [
        "word\tMale\tFemale\n",
        "the\t66.4%\t63.1%"
       ]
      },
      {
       "output_type": "stream",
       "stream": "stdout",
       "text": [
        "\n",
        "and\t41.3%\t43.0%\n",
        "to\t42.7%\t40.3%\n",
        "a\t45.2%\t44.8%\n",
        "of\t40.0%\t39.0%\n",
        "in\t38.7%\t37.7%\n",
        "that\t23.8%\t21.7%\n",
        "for\t18.6%\t19.4%\n",
        "is\t14.1%\t16.0%\n",
        "on\t17.2%\t14.7%\n",
        "with\t16.0%\t15.5%\n",
        "said\t24.6%\t20.6%\n",
        "was\t18.9%\t16.4%\n",
        "at\t12.4%\t13.2%\n",
        "he\t48.3%\t0.0%\n",
        "it\t10.3%\t10.5%\n",
        "as\t12.5%\t12.2%\n",
        "by\t8.8%\t9.4%\n",
        "but\t10.7%\t9.3%\n",
        "from\t9.8%\t9.3%\n",
        "his\t32.5%\t0.0%\n",
        "an\t9.2%\t9.7%\n",
        "be\t7.5%\t7.5%\n",
        "have\t6.4%\t6.9%\n",
        "are\t4.6%\t5.5%\n",
        "not\t8.2%\t7.7%\n",
        "has\t8.8%\t7.0%\n",
        "this\t5.7%\t5.7%\n",
        "who\t9.4%\t9.8%\n",
        "i\t6.6%\t7.6%\n",
        "they\t3.9%\t4.5%\n",
        "mr\t21.9%\t0.0%\n",
        "or\t3.8%\t4.4%\n",
        "had\t8.4%\t7.6%\n",
        "more\t4.8%\t4.3%\n",
        "about\t5.8%\t6.2%\n",
        "one\t5.5%\t5.6%\n",
        "will\t4.3%\t3.8%\n",
        "their\t3.1%\t4.6%\n",
        "which\t4.7%\t4.5%\n",
        "would\t5.5%\t4.3%\n",
        "new\t4.3%\t4.3%\n",
        "were\t3.7%\t4.6%\n",
        "when\t6.2%\t5.8%\n",
        "we\t3.6%\t3.4%\n",
        "its\t2.6%\t2.4%\n",
        "you\t2.7%\t3.4%\n",
        "been\t4.6%\t4.2%\n",
        "she\t0.0%\t41.6%\n",
        "than\t3.1%\t3.0%\n",
        "if\t3.6%\t3.4%\n",
        "up\t3.7%\t3.6%\n",
        "after\t5.3%\t3.8%\n",
        "out\t4.1%\t3.7%\n",
        "her\t0.0%\t33.9%\n",
        "all\t3.0%\t3.5%\n",
        "like\t3.4%\t4.0%\n",
        "there\t2.9%\t3.1%\n",
        "also\t3.3%\t3.4%\n",
        "other\t2.8%\t2.8%\n",
        "what\t3.3%\t3.3%\n",
        "two\t3.4%\t3.2%\n",
        "no\t2.9%\t2.6%\n",
        "some\t2.8%\t2.8%\n",
        "so\t3.0%\t3.3%\n",
        "can\t2.1%\t2.4%\n",
        "last\t3.6%\t2.4%\n",
        "into\t3.3%\t3.1%\n",
        "first\t3.6%\t4.1%\n",
        "it's\t1.9%\t2.7%\n",
        "time\t3.2%\t2.9%\n",
        "over\t2.9%\t2.2%\n",
        "years\t3.2%\t3.1%\n",
        "people\t2.5%\t2.5%\n",
        "just\t2.5%\t2.6%\n",
        "through\t2.0%\t1.9%\n",
        "could\t2.8%\t2.6%\n",
        "p.m\t0.5%\t0.7%\n",
        "year\t2.3%\t2.0%\n",
        "them\t2.1%\t2.3%\n",
        "most\t2.2%\t1.9%\n",
        "do\t1.9%\t1.9%\n",
        "now\t2.5%\t2.2%\n",
        "because\t2.6%\t2.6%\n",
        "even\t2.2%\t1.9%\n",
        "my\t2.2%\t3.7%\n",
        "many\t1.9%\t2.0%\n",
        "only\t2.2%\t2.1%\n",
        "him\t8.1%\t0.0%\n",
        "how\t1.9%\t2.0%\n",
        "where\t2.3%\t2.4%\n",
        "those\t1.5%\t1.4%\n",
        "before\t2.6%\t2.0%\n",
        "get\t1.7%\t1.6%\n",
        "percent\t0.9%\t0.8%\n",
        "work\t1.7%\t3.1%\n",
        "make\t1.7%\t1.8%\n",
        "then\t1.9%\t1.9%\n",
        "made\t2.2%\t2.1%\n",
        "way\t1.7%\t1.8%"
       ]
      }
     ],
     "prompt_number": 49
    },
    {
     "cell_type": "markdown",
     "metadata": {},
     "source": [
      "While there's a couple of interesting findings here, for the most part, the basic building blocks\n",
      "of sentences are fairly similarly in the male and female subject sentences. Now, this is just based on\n",
      "word frequencies, and a more nuanced examination would probably discover additionally findings of interest.\n",
      "For example, my guess is that that 'work', near the bottom of this list, is used not only more\n",
      "frequently in the female subject sentences, but also in a different context and as a different\n",
      "part of speech (e.g. 'men work', 'women juggle home and work responsibilities.'). Comparing\n",
      "word frequencies only gets you so far, but it is pretty quick and easy way to \n",
      "conduct some preliminary data analysis."
     ]
    },
    {
     "cell_type": "code",
     "collapsed": false,
     "input": [
      "#ignore code below. Imports style sheet for this page.\n",
      "\n",
      "from IPython.core.display import HTML\n",
      "def css_styling():\n",
      "    styles = open(\"custom.css\", \"r\").read()\n",
      "    return HTML(styles)\n",
      "css_styling()"
     ],
     "language": "python",
     "metadata": {},
     "outputs": [
      {
       "html": [
        "<style>\n",
        "    @font-face {\n",
        "        font-family: \"Computer Modern\";\n",
        "        src: url('http://mirrors.ctan.org/fonts/cm-unicode/fonts/otf/cmunss.otf');\n",
        "    }\n",
        "    div.cell{\n",
        "        width:800px;\n",
        "        margin-left:auto;\n",
        "        margin-right:auto;\n",
        "    }\n",
        "    h1 {\n",
        "        font-family: \"Computer Modern\";\n",
        "        \n",
        "    }\n",
        "    h4{\n",
        "        margin-top:12px;\n",
        "        margin-bottom: 3px;\n",
        "        \n",
        "       }\n",
        "    div.text_cell_render{\n",
        "        font-family: Computer Modern, \"Helvetica Neue\", Arial, Helvetica, Geneva, sans-serif;\n",
        "        line-height: 145%;\n",
        "        font-size: 130%;\n",
        "        width:800px;\n",
        "        margin-left:auto;\n",
        "        margin-right:auto;\n",
        "                color: #413839;\n",
        "\n",
        "    }\n",
        "    .CodeMirror{\n",
        "            font-family: \"Source Code Pro\", source-code-pro,Consolas, monospace;\n",
        "            \n",
        "    }\n",
        "    .prompt{\n",
        "        display: None;\n",
        "    }\n",
        "    .text_cell_render h5 {\n",
        "        font-weight: 300;\n",
        "        font-size: 16pt;\n",
        "        color: #4057A1;\n",
        "        font-style: italic;\n",
        "        margin-bottom: .5em;\n",
        "        margin-top: 0.5em;\n",
        "        display: block;\n",
        "    }\n",
        "\n",
        "    .warning{\n",
        "        color: rgb( 240, 20, 20 )\n",
        "        }\n",
        "\n",
        "</style>\n"
       ],
       "metadata": {},
       "output_type": "pyout",
       "prompt_number": 1,
       "text": [
        "<IPython.core.display.HTML at 0x102d39f10>"
       ]
      }
     ],
     "prompt_number": 1
    },
    {
     "cell_type": "code",
     "collapsed": false,
     "input": [],
     "language": "python",
     "metadata": {},
     "outputs": []
    }
   ],
   "metadata": {}
  }
 ]
}