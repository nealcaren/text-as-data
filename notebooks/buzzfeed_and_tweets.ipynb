{
 "metadata": {
  "name": ""
 },
 "nbformat": 3,
 "nbformat_minor": 0,
 "worksheets": [
  {
   "cells": [
    {
     "cell_type": "markdown",
     "metadata": {},
     "source": [
      "###5 Buzzfeed Headline Numbers That Will Change How You Write\n",
      "\n",
      "Neal Caren - University of North Carolina, Chapel Hill\n",
      "[mail](mailto:neal.caren@unc.edu)\n",
      "[web](http://nealcaren.web.unc.edu)\n",
      "[twitter](http://twitter.com/HaphazardSoc)\n",
      "[scholar](http://scholar.google.com/citations?user=cy0u16kAAAAJ&hl=en)\n",
      "\n",
      "After reading [11 Amazing Outfits Ronald Reagan Rocked](http://www.buzzfeed.com/andrewkaczynski/reagan-rocks-some-good-outfits) today, I started to wonder about the distribution of numbers in Buzzfeed headlines. I wrote up a quick Python script to analyze which numbers were used most frequently based on the last 1,861 article headlines [tweeted](https://twitter.com/BuzzFeed). The full code and results are below, but:\n",
      "\n",
      "* 46% of headlines have a number in them, such as [23 Famous People You May Have Forgotten Were On \"The O.C.\"](http://www.buzzfeed.com/lyapalater/famous-people-you-may-have-forgotten-were-on-the-oc)\n",
      "* 82% of the time a number was used, it was the first thing in the headline, such as [21 Things Miley And Her New Bleached Eyebrows Look Like](http://www.buzzfeed.com/lyapalater/things-miley-and-her-new-eyebrows-look-like)\n",
      "* 23, 21, 19, 15 and 17 were the most common numbers, such as [19 Extremely French Things That Happen In The New Pok\u00e9mon Game](http://www.buzzfeed.com/alannaokun/xx-highly-french-things-that-happen-in-pokemon-xy)\n",
      "* 64% of the numbers were odd, such as [15 More Realistic Scented Candles For Twentysomethings](http://www.buzzfeed.com/joannaborns/15-more-realistic-scented-candles-for-twentysomethings)\n",
      "* 4 is the least common number, only appearing once, so this list has five things, like [5 Studies That Prove Video Games Are Good For You](https://www.buzzfeed.com/video/jeffrubin/5-studies-that-prove-video-games-are-good-for-you)"
     ]
    },
    {
     "cell_type": "code",
     "collapsed": false,
     "input": [
      "from __future__ import division\n",
      "from collections import Counter\n",
      "\n",
      "import twython "
     ],
     "language": "python",
     "metadata": {},
     "outputs": [],
     "prompt_number": 1
    },
    {
     "cell_type": "code",
     "collapsed": false,
     "input": [
      "#You can get your own from http://dev.twitter.com\n",
      "\n",
      "consumer_key='your_consumer_key'\n",
      "consumer_secret='your_consumer_secret'\n",
      "access_token='your_access_token'\n",
      "access_token_secret='your_access_token_secret'"
     ],
     "language": "python",
     "metadata": {},
     "outputs": [],
     "prompt_number": 2
    },
    {
     "cell_type": "code",
     "collapsed": false,
     "input": [
      "#authenticate yourself\n",
      "twitter = twython.Twython(consumer_key, consumer_secret, access_token, access_token_secret)"
     ],
     "language": "python",
     "metadata": {},
     "outputs": [],
     "prompt_number": 3
    },
    {
     "cell_type": "code",
     "collapsed": false,
     "input": [
      "#get some tweets\n",
      "\n",
      "headlines = []\n",
      "\n",
      "last_id = 907718359241744384 # a random large number\n",
      "\n",
      "#Grab the most recent tweets from the buzzfeed feed, ignoring retweets\n",
      "for i in range(1,17):\n",
      "    tweets = twitter.get_user_timeline(screen_name = 'buzzfeed', \n",
      "                                       include_rts ='False', \n",
      "                                       count = 200 , \n",
      "                                       max_id = last_id)\n",
      "    \n",
      "    headlines = headlines + [tweet['text'] for tweet in tweets]\n",
      "    last_id =  tweets[-1]['id'] - 1"
     ],
     "language": "python",
     "metadata": {},
     "outputs": [],
     "prompt_number": 4
    },
    {
     "cell_type": "code",
     "collapsed": false,
     "input": [
      "for headline in headlines[:15]:\n",
      "    print headline"
     ],
     "language": "python",
     "metadata": {},
     "outputs": [
      {
       "output_type": "stream",
       "stream": "stdout",
       "text": [
        "@MileyCyrus http://t.co/KCNKIdvLNl\n",
        "Yesss  RT @MileyCyrus: I want a boyfriend that will wear jean on jean on jean with me http://t.co/36OoXUh4Yq\n",
        "17 Times In 2013 When Anne Hathaway Made Us Lose Our Faith In Hatmanity \n",
        "\u21aa http://t.co/qeYn6hiaUi http://t.co/gLXVeutP0m\n",
        "11 Portraits Of Your Favorite Pop Culture Families \n",
        "http://t.co/oZulY7zjcs http://t.co/FIU7QEbsN5\n",
        "Batman/Superman movie has found its Wonder Woman, Gal Gadot \n",
        "http://t.co/AKMYm9DfK9 http://t.co/pWHzcajLsW\n",
        "The 33 DUMBEST things that happened in 2013\n",
        "\u21aa http://t.co/y2dAlP3SFK http://t.co/XzoJ2v1E8b\n",
        "Egg nog: Y/N?\n",
        "40 Signs You\u2019re Almost 40\n",
        "http://t.co/MLwridkBvV http://t.co/xrGkwIplUB\n",
        "LOOK AT THIS CAT http://t.co/bi5qpJJzfc\n",
        "The 40 Most Awkward Dogs Of 2013\n",
        "\u21b3 http://t.co/UQZ3GUZ19U http://t.co/PwPdVM6oTX\n",
        "How are you not following @darth already?\n",
        "The 39 MOST spectacular @Darth photoshops of 2013\n",
        "http://t.co/Wwb4DiWFrE\n",
        "\u21d2 http://t.co/6TNtzvvPUk\n",
        "The 19 Greatest Dad Jokes From Rick Grimes\n",
        "http://t.co/nGqgzn95An http://t.co/hxbGzgGxcW\n",
        "QUIZ: Which \"Love Actually\" Character Are You?\n",
        "\u21aa http://t.co/sMYI15NRlP\n",
        "23 EXCELLENT reasons to drink more wine\n",
        "http://t.co/JmZgwFZVYX http://t.co/wYT3XbxbSn\n"
       ]
      }
     ],
     "prompt_number": 7
    },
    {
     "cell_type": "code",
     "collapsed": false,
     "input": [
      "#remove duplicate headlines\n",
      "headlines = list(set(headlines))\n",
      "print len(headlines),'headlines'\n",
      "\n",
      "#turn the headlines into a list of words\n",
      "headline_words = [headline.split() for headline in headlines]\n",
      "headline_words = [word for headline in headline_words for word in headline]\n",
      "print len(headline_words),'headline words'\n",
      "\n",
      "#keep only the numbers in the headlines\n",
      "numbers = [word for word in headline_words if word.isdigit()]\n",
      "print len(numbers),'numbers used'\n",
      "\n",
      "#look for whether the headline has any number\n",
      "any_number = [headline for headline in headlines if len([h for h in headline.split() if h.isdigit()==True])>0] \n",
      "print '%02d%% any number' % (len(any_number)/len(headlines)*100)\n",
      "\n",
      "\n",
      "#then look to see if the first word is a number\n",
      "numbers_first = [headline for headline in headlines if headline.split()[0].isdigit()==True] \n",
      "print '%02d%% number first' % (len(numbers_first)/len(any_number)*100)\n",
      "\n",
      "#see if it's an odd numbers\n",
      "odd_numbers = [number for number in numbers if int(number) % 2 ==1 ]\n",
      "print '%02d%% odd first' % (len(odd_numbers)/len(numbers)*100)\n",
      "\n",
      "\n",
      "#get the frequency of the number\n",
      "number_counter = Counter(numbers)\n",
      "\n",
      "\n"
     ],
     "language": "python",
     "metadata": {},
     "outputs": [
      {
       "output_type": "stream",
       "stream": "stdout",
       "text": [
        "1840 headlines\n",
        "19021 headline words\n",
        "886 numbers used\n",
        "46% any number\n",
        "82% number first\n",
        "64% odd first\n"
       ]
      }
     ],
     "prompt_number": 8
    },
    {
     "cell_type": "code",
     "collapsed": false,
     "input": [
      "#Print out the most common numbers\n",
      "print ' No. Freq'\n",
      "for number, count in number_counter.most_common()[:23]:\n",
      "    print '%4d %4d' % (int(number), count)"
     ],
     "language": "python",
     "metadata": {},
     "outputs": [
      {
       "output_type": "stream",
       "stream": "stdout",
       "text": [
        " No. Freq\n",
        "  23   54\n",
        "  21   52\n",
        "  19   48\n",
        "  15   47\n",
        "  17   45\n",
        "2013   41\n",
        "  27   36\n",
        "  18   36\n",
        "  25   31\n",
        "  24   29\n",
        "  33   27\n",
        "  29   26\n",
        "  13   26\n",
        "  14   25\n",
        "  31   25\n",
        "  10   24\n",
        "  20   23\n",
        "  16   23\n",
        "  26   22\n",
        "  22   22\n",
        "  11   21\n",
        "  30   20\n",
        "  35   17\n"
       ]
      }
     ],
     "prompt_number": 9
    },
    {
     "cell_type": "code",
     "collapsed": false,
     "input": [
      "#print out the headlines with the most common number\n",
      "for headline in headlines:\n",
      "    if '23' in headline.split():\n",
      "        print headline"
     ],
     "language": "python",
     "metadata": {},
     "outputs": [
      {
       "output_type": "stream",
       "stream": "stdout",
       "text": [
        "23 photos taken ONE SECOND before utter catastrophe http://t.co/h0qvSi26t9 http://t.co/kyN3I35Xzr\n",
        "The 23 Most Important Selfies Of 2013 http://t.co/fwHErdPrwz\n",
        "23 LIES you tell yourself to feel like a grown up http://t.co/e5nr3YCNWQ http://t.co/tBtQ8531HB\n",
        "23 Easy Tricks To Baby Proof Your House For The Holidays http://t.co/OvzLRKbSfr\n",
        "The 23 Absolute Worst Parts Of Your Childhood http://t.co/gqp5Kog1Kp\n",
        "23 DIY Holiday Gifts Kids Can Give To Their Parents http://t.co/b7gZPcP1xi\n",
        "23 Signs You're A Morning Person http://t.co/9OuKr7LTGq\n",
        "23 people with better names than yours http://t.co/cs041pPmqu http://t.co/ia7eG2ZWpJ\n",
        "23 Times Taylor Swift Was Right About Life http://t.co/OizcsCmlGh\n",
        "23 Moments When You Realize That You Have Failed As A Man http://t.co/M47SXDXH34 http://t.co/3Rr26ycUdh\n",
        "23 Times Nathan And Haley Made You Believe In True Love http://t.co/GwZG1odBcQ via @mkruvant http://t.co/InbOjwswUk\n",
        "23 Reasons Neil Gaiman Is The Coolest Author Around http://t.co/EuYTdcwr1B\n",
        "23 Greatest Thanksgiving Moments From \"Friends\" http://t.co/sK40EDIlT5\n",
        "23 Absurdly Lame Things That Happened To Superman, Batman, And Robin http://t.co/KWumjX9Ihd\n",
        "23 Reasons Why P!nk Is The Role Model Every Girl Should Have http://t.co/CE9GGi9Ee0\n",
        "23 People With Better Names Than Yours http://t.co/nPxuzPMAHR\n",
        "23 Tech Problems We All Still Suffer Through http://t.co/Eg7dGO5chq\n",
        "23 Delicious Vegetarian Hanukkah Recipes http://t.co/o1IBjQQ5Ua\n",
        "23 Inspirational Signs From The Church Championing Gay Marriage http://t.co/54AQtGejt5\n",
        "23 Times Nathan And Haley Made You Believe In True Love \n",
        "http://t.co/ytDengJjh2 http://t.co/qYSPImghUq\n",
        "23 Signs You\u2019re A Morning Person\n",
        "http://t.co/74QuJELqiZ http://t.co/YqVy2WjcVf\n",
        "23 EXCELLENT reasons to drink more wine\n",
        "http://t.co/JmZgwFZVYX http://t.co/wYT3XbxbSn\n",
        "23 things ONLY pale people will understand http://t.co/GOUAKWAcMB http://t.co/WZa3NImGQs\n",
        "The 23 Most Corrupt Countries In The World http://t.co/kOnT7QGZ4B\n",
        "23 Lies You Tell Yourself To Feel Like A Grown-Up http://t.co/e5nr3YCNWQ http://t.co/cFXi3ZUytK\n",
        "23 Tattoos For Coffee Lovers http://t.co/Q3l9PVQ3F3\n",
        "23 Signs You Might Be Blanche Devereaux From \"The Golden Girls\" http://t.co/kn100r3jum\n",
        "23 Times Nathan And Haley Made You Believe In True Love http://t.co/8vHwVJk6qr\n",
        "The 23 absolute WORST parts of your childhood http://t.co/JvMduxsIgd http://t.co/AhSxufHx9e\n",
        "23 Signs You\u2019re Obsessed With Christmas http://t.co/tcG3zY5KuY http://t.co/mmMicC3xdI\n",
        "23 Airport Moments That Will Test Your Will To Live \n",
        "http://t.co/tf0nrBCBBo http://t.co/VbQebXdv8Y\n",
        "The 23 absolute WORST parts of your childhood http://t.co/JvMduxsIgd http://t.co/35B8FasSsl\n",
        "23 Signs You're Obsessed With Christmas http://t.co/r1xeHk6wjy\n",
        "23 Geeky Greeting Cards For The Holidays http://t.co/tN4kA4BN6C\n",
        "23 Reasons You Should Wear White This Winter http://t.co/90Wh3uCXIN\n",
        "23 Lies You Tell Yourself To Feel Like A Grown-Up http://t.co/2ExR6l7UoI\n",
        "23 Netflix Suggestions That Make No Sense http://t.co/UnNRExi1vq\n",
        "23 Airport Moments That Will Test Your Will To Live \n",
        "http://t.co/tf0nrBCBBo http://t.co/VDwyUPDfQZ\n",
        "The 23 Most Midwestern Things To Ever Happen http://t.co/e8BFsR6zcj\n",
        "23 Snazzy Nail Ideas For Thanksgiving http://t.co/L6UVIY6JsY\n",
        "23 Photos That Prove Pug Shaming Is The Best Kind Of Dog Shaming http://t.co/SnP6xHAwLk\n",
        "23 famous people you may have forgotten were on \"The O.C.\"  \n",
        "http://t.co/ATSy6tWW6J http://t.co/PRKIjSqQzL\n",
        "23 Ingenious Australian Solutions To Everyday Problems http://t.co/z2WxDOqpOM http://t.co/L9nbNpGbtY\n",
        "23 Times Amber Riley Was The Fiercest Competitor In \"Dancing With The Stars\" History http://t.co/VjCXzLVmCh\n",
        "The 23 MOST important selfies of 2013 \n",
        "http://t.co/TSTmz9ibWU http://t.co/tPcgcG5YXc\n",
        "23 EXCELLENT reasons to drink more wine\n",
        "http://t.co/JmZgwFZVYX http://t.co/Jw1Yg8EwCn\n",
        "23 Airport Moments That Will Test Your Will To Live http://t.co/DLAVlTkz3H http://t.co/SKm1SrTR9A\n",
        "23 Times \"Parenthood\" Made You Cry Happy Tears http://t.co/FBnKDTZuUU\n",
        "23 Reasons Why Trying To Be Cute On The Internet Is A Terrible Idea http://t.co/s96GqbnvFm\n",
        "23 Real-Life Struggles Of Being 23 http://t.co/uExAotYa78\n",
        "23 Defining Traits Of Your Favorite Teacher http://t.co/PpSAMJQXWK\n",
        "23 photos that PROVE pug shaming is the best kind of dog shaming \n",
        "http://t.co/URg1SrvUrT http://t.co/yamTgwvlba\n",
        "23 Famous People You May Have Forgotten Were On \"The O.C.\" http://t.co/eK5Lz9WLQa\n"
       ]
      }
     ],
     "prompt_number": 10
    },
    {
     "cell_type": "code",
     "collapsed": false,
     "input": [
      "#import tools for graphing\n",
      "%matplotlib inline\n",
      "import pandas as pd"
     ],
     "language": "python",
     "metadata": {},
     "outputs": [],
     "prompt_number": 11
    },
    {
     "cell_type": "code",
     "collapsed": false,
     "input": [
      "#make a histogram for numbers smaller than 40\n",
      "small_numbers = [int(number) for number in numbers if int(number) <= 40 ]\n",
      "df = pd.DataFrame(small_numbers, columns =['Buzzfeed Headline Numbers'])\n",
      "df.hist(bins=40)"
     ],
     "language": "python",
     "metadata": {},
     "outputs": [
      {
       "metadata": {},
       "output_type": "pyout",
       "prompt_number": 12,
       "text": [
        "array([[<matplotlib.axes.AxesSubplot object at 0x10818f0d0>]], dtype=object)"
       ]
      },
      {
       "metadata": {},
       "output_type": "display_data",
       "png": "[encoded data removed]",
       "text": [
        "<matplotlib.figure.Figure at 0x108187a50>"
       ]
      }
     ],
     "prompt_number": 12
    },
    {
     "cell_type": "code",
     "collapsed": false,
     "input": [
      "#ignore code below. Imports style sheet for this page.\n",
      "\n",
      "from IPython.core.display import HTML\n",
      "def css_styling():\n",
      "    styles = open(\"custom.css\", \"r\").read()\n",
      "    return HTML(styles)\n",
      "css_styling()"
     ],
     "language": "python",
     "metadata": {},
     "outputs": [
      {
       "html": [
        "<style>\n",
        "    @font-face {\n",
        "        font-family: \"Computer Modern\";\n",
        "        src: url('http://mirrors.ctan.org/fonts/cm-unicode/fonts/otf/cmunss.otf');\n",
        "    }\n",
        "    div.cell{\n",
        "        width:800px;\n",
        "        margin-left:auto;\n",
        "        margin-right:auto;\n",
        "    }\n",
        "    h1 {\n",
        "        font-family: \"Computer Modern\";\n",
        "        \n",
        "    }\n",
        "    h4{\n",
        "        margin-top:12px;\n",
        "        margin-bottom: 3px;\n",
        "        \n",
        "       }\n",
        "    div.text_cell_render{\n",
        "        font-family: Computer Modern, \"Helvetica Neue\", Arial, Helvetica, Geneva, sans-serif;\n",
        "        line-height: 145%;\n",
        "        font-size: 130%;\n",
        "        width:800px;\n",
        "        margin-left:auto;\n",
        "        margin-right:auto;\n",
        "                color: #413839;\n",
        "\n",
        "    }\n",
        "    .CodeMirror{\n",
        "            font-family: \"Source Code Pro\", source-code-pro,Consolas, monospace;\n",
        "            \n",
        "    }\n",
        "    .prompt{\n",
        "        display: None;\n",
        "    }\n",
        "    .text_cell_render h5 {\n",
        "        font-weight: 300;\n",
        "        font-size: 16pt;\n",
        "        color: #4057A1;\n",
        "        font-style: italic;\n",
        "        margin-bottom: .5em;\n",
        "        margin-top: 0.5em;\n",
        "        display: block;\n",
        "    }\n",
        "\n",
        "    .warning{\n",
        "        color: rgb( 240, 20, 20 )\n",
        "        }\n",
        "\n",
        "</style>\n"
       ],
       "metadata": {},
       "output_type": "pyout",
       "prompt_number": 14,
       "text": [
        "<IPython.core.display.HTML at 0x108202590>"
       ]
      }
     ],
     "prompt_number": 14
    },
    {
     "cell_type": "code",
     "collapsed": false,
     "input": [],
     "language": "python",
     "metadata": {},
     "outputs": []
    }
   ],
   "metadata": {}
  }
 ]
}